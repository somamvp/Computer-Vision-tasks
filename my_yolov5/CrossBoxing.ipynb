{
 "cells": [
  {
   "cell_type": "code",
   "execution_count": null,
   "metadata": {},
   "outputs": [],
   "source": [
    "#######################################\n",
    "src = 'Wesee_sample_parsed'\n",
    "src_pt = 'Wesee_RA3.pt'\n",
    "target = 'Dobo_sample_parsed'\n",
    "\n",
    "\n",
    "#######################################\n",
    "import yaml, os, shutil\n",
    "import torch as torch\n",
    "from PIL import Image\n",
    "from models.common import DetectMultiBackend, AutoShape\n",
    "\n",
    "src_dir = '../dataset/'+src\n",
    "# model = yolov5.load()\n",
    "target_dir = '../dataset/'+target\n",
    "cb = src_pt[:src_pt.find(\"_\")]\n",
    "cb_dir = '../dataset/'+cb+'_CBon_'+target\n",
    "\n",
    "DEVICE = \"cuda\" if torch.cuda.is_available() else \"cpu\"\n",
    "print(f\"using devide {DEVICE}\")\n",
    "\n",
    "model = AutoShape(\n",
    "    DetectMultiBackend(weights=src_pt, device=DEVICE)\n",
    "    (weights='my_yolov5/'+src_pt, device=torch.device(DEVICE))\n",
    ")   \n",
    "\n",
    "def cross_boxing():\n",
    "    for type in ['/train','/val','/test']:\n",
    "        image_folder = cb_dir+type\n",
    "        if os.path.exists(image_folder):\n",
    "            image_list = os.listdir(image_folder)\n",
    "            for image_file in image_list:\n",
    "                image = Image.open(image_folder+'/'+image_file)\n",
    "                result_dict = model(image, size=640).pandas().xyxy[0].to_dict(orient=\"records\")\n",
    "                print(result_dict)\n",
    "\n",
    "\n",
    "def main():\n",
    "    if not os.path.exists(cb_dir):\n",
    "        for dir in ['','/train','/val','/test']:\n",
    "            os.mkdir(cb_dir+dir)\n",
    "        for dir in ['/train/images','/val/images','/test/images']:\n",
    "            if os.path.exists(target_dir+dir):\n",
    "                shutil.copytree(target_dir+dir, cb_dir+dir)\n",
    "    \n",
    "    for dir in ['/train/labels','/val/labels','/test/labels']:\n",
    "        if os.path.exists(cb_dir+dir):\n",
    "            shutil.rmtree(cb_dir+dir)\n",
    "        if os.path.exists(target_dir+dir):\n",
    "            os.mkdir(cb_dir+dir)\n",
    "    \n",
    "    cross_boxing()\n",
    "\n",
    "if __name__ == \"__main__\":\n",
    "    main()"
   ]
  },
  {
   "cell_type": "code",
   "execution_count": 1,
   "metadata": {},
   "outputs": [
    {
     "name": "stdout",
     "output_type": "stream",
     "text": [
      "/home/soma2/MVP/voyager-Vision-task/my_yolov5\n"
     ]
    }
   ],
   "source": [
    "!pwd"
   ]
  }
 ],
 "metadata": {
  "kernelspec": {
   "display_name": "Python 3.7.2 64-bit ('3.7.2')",
   "language": "python",
   "name": "python3"
  },
  "language_info": {
   "codemirror_mode": {
    "name": "ipython",
    "version": 3
   },
   "file_extension": ".py",
   "mimetype": "text/x-python",
   "name": "python",
   "nbconvert_exporter": "python",
   "pygments_lexer": "ipython3",
   "version": "3.7.2"
  },
  "orig_nbformat": 4,
  "vscode": {
   "interpreter": {
    "hash": "f53bce6b601205a0c41a6b39c96579926bfc70ee9bbaa7ac3b159fab4cb6c8c1"
   }
  }
 },
 "nbformat": 4,
 "nbformat_minor": 2
}
