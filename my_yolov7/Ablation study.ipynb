{
 "cells": [
  {
   "cell_type": "code",
   "execution_count": null,
   "id": "94af755c",
   "metadata": {},
   "outputs": [],
   "source": [
    "# NC=27, Full images\n",
    "!python train.py  --epoch 40 --data data/barrier.yaml --weights yolov7.pt --name barrier_ind1_ --img 640 640 --cfg cfg/training/yolov7.yaml --hyp data/hyp.scratch.voyager.yaml --batch-size 24\n"
   ]
  },
  {
   "cell_type": "code",
   "execution_count": null,
   "id": "2303cbac",
   "metadata": {},
   "outputs": [],
   "source": [
    "# NC=27, Drop blank image by 80%\n",
    "!python train.py  --epoch 40 --data data/barrier_less.yaml --weights yolov7.pt --name barrier_ --img 640 640 --cfg cfg/training/yolov7.yaml --hyp data/hyp.scratch.voyager.yaml --batch-size 24\n"
   ]
  },
  {
   "cell_type": "code",
   "execution_count": null,
   "id": "0d410fec",
   "metadata": {},
   "outputs": [],
   "source": [
    "# NC=1, Drop blank image by 80%\n",
    "!python train.py  --epoch 40 --data data/barrier_single.yaml --weights yolov7.pt --name barrier_single_ --img 640 640 --cfg cfg/training/yolov7.yaml --hyp data/hyp.scratch.voyager.yaml --batch-size 24\n"
   ]
  },
  {
   "cell_type": "code",
   "execution_count": null,
   "id": "d79435d1",
   "metadata": {},
   "outputs": [],
   "source": []
  }
 ],
 "metadata": {
  "kernelspec": {
   "display_name": "Python 3",
   "language": "python",
   "name": "python3"
  },
  "language_info": {
   "codemirror_mode": {
    "name": "ipython",
    "version": 3
   },
   "file_extension": ".py",
   "mimetype": "text/x-python",
   "name": "python",
   "nbconvert_exporter": "python",
   "pygments_lexer": "ipython3",
   "version": "3.8.8"
  }
 },
 "nbformat": 4,
 "nbformat_minor": 5
}
