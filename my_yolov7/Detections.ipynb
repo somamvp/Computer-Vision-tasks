{
 "cells": [
  {
   "cell_type": "code",
   "execution_count": 7,
   "metadata": {},
   "outputs": [
    {
     "name": "stdout",
     "output_type": "stream",
     "text": [
      "Namespace(weights=['wesee7_fin.pt'], source='../../dataset/source_hard', img_size=640, conf_thres=0.1, iou_thres=0.65, device='', view_img=False, save_txt=False, save_conf=False, nosave=False, classes=None, agnostic_nms=False, augment=False, update=False, project='runs/detect', name='src_hard', exist_ok=False, no_trace=False)\n",
      "YOLOR 🚀 1c71294 torch 1.7.1+cu110 CUDA:0 (NVIDIA GeForce RTX 3090, 24265.3125MB)\n",
      "\n",
      "Fusing layers... \n",
      "RepConv.fuse_repvgg_block\n",
      "RepConv.fuse_repvgg_block\n",
      "RepConv.fuse_repvgg_block\n",
      "IDetect.fuse\n",
      "Model Summary: 314 layers, 36622016 parameters, 6194944 gradients\n",
      " Convert model to Traced-model... \n",
      " traced_script_module saved! \n",
      " model is traced! \n",
      "\n",
      " The image with the result is saved in: runs/detect/src_hard11/221025_16:18:45.94_Session1.jpg\n",
      " The image with the result is saved in: runs/detect/src_hard11/221025_16:18:46.95_Session2.jpg\n",
      " The image with the result is saved in: runs/detect/src_hard11/221025_16:18:47.93_Session3.jpg\n",
      " The image with the result is saved in: runs/detect/src_hard11/221025_16:18:48.98_Session4.jpg\n",
      " The image with the result is saved in: runs/detect/src_hard11/221025_16:18:49.93_Session5.jpg\n",
      " The image with the result is saved in: runs/detect/src_hard11/221025_16:18:50.96_Session6.jpg\n",
      " The image with the result is saved in: runs/detect/src_hard11/221025_16:18:51.94_Session7.jpg\n",
      " The image with the result is saved in: runs/detect/src_hard11/221025_16:18:52.97_Session8.jpg\n",
      " The image with the result is saved in: runs/detect/src_hard11/221025_23:30:49.02_Session10.jpg\n",
      " The image with the result is saved in: runs/detect/src_hard11/221025_23:30:49.54_Session11.jpg\n",
      " The image with the result is saved in: runs/detect/src_hard11/221025_23:30:50.05_Session12.jpg\n",
      " The image with the result is saved in: runs/detect/src_hard11/221025_23:30:50.52_Session13.jpg\n",
      " The image with the result is saved in: runs/detect/src_hard11/221025_23:30:51.05_Session14.jpg\n",
      " The image with the result is saved in: runs/detect/src_hard11/221025_23:30:51.53_Session15.jpg\n",
      " The image with the result is saved in: runs/detect/src_hard11/221025_23:30:52.05_Session16.jpg\n",
      " The image with the result is saved in: runs/detect/src_hard11/221026_15:10:44.02_Session7.jpg\n",
      " The image with the result is saved in: runs/detect/src_hard11/221026_15:10:44.41_Session8.jpg\n",
      " The image with the result is saved in: runs/detect/src_hard11/221026_15:10:45.49_Session10.jpg\n",
      " The image with the result is saved in: runs/detect/src_hard11/221026_15:10:45.93_Session11.jpg\n",
      " The image with the result is saved in: runs/detect/src_hard11/221026_15:10:46.96_Session13.jpg\n",
      " The image with the result is saved in: runs/detect/src_hard11/221026_15:10:47.44_Session14.jpg\n",
      " The image with the result is saved in: runs/detect/src_hard11/221026_15:10:57.44_Session34.jpg\n",
      " The image with the result is saved in: runs/detect/src_hard11/221026_15:10:57.95_Session35.jpg\n",
      " The image with the result is saved in: runs/detect/src_hard11/221026_15:10:58.91_Session37.jpg\n",
      " The image with the result is saved in: runs/detect/src_hard11/221026_15:10:59.43_Session38.jpg\n",
      " The image with the result is saved in: runs/detect/src_hard11/221026_15:11:00.41_Session40.jpg\n",
      " The image with the result is saved in: runs/detect/src_hard11/221026_15:11:00.94_Session41.jpg\n",
      " The image with the result is saved in: runs/detect/src_hard11/221026_15:11:10.95_Session61.jpg\n",
      " The image with the result is saved in: runs/detect/src_hard11/221026_15:11:11.42_Session62.jpg\n",
      " The image with the result is saved in: runs/detect/src_hard11/221026_15:11:12.46_Session64.jpg\n",
      " The image with the result is saved in: runs/detect/src_hard11/221026_15:11:12.90_Session65.jpg\n",
      " The image with the result is saved in: runs/detect/src_hard11/221026_15:11:13.96_Session67.jpg\n",
      " The image with the result is saved in: runs/detect/src_hard11/221026_15:11:14.45_Session68.jpg\n",
      "Done. (1.293s)\n"
     ]
    }
   ],
   "source": [
    "# QC for Basic\n",
    "!python detect.py --weights wesee7_fin.pt --source ../../dataset/source_hard --name src_hard --img-size 640 --conf-thres 0.1 --iou-thres 0.65\n"
   ]
  },
  {
   "cell_type": "code",
   "execution_count": 3,
   "metadata": {},
   "outputs": [
    {
     "name": "stdout",
     "output_type": "stream",
     "text": [
      "Namespace(weights=['wesee7_6.pt'], source='../../dataset/source_hard', img_size=640, conf_thres=0.1, iou_thres=0.65, device='', view_img=False, save_txt=False, save_conf=False, nosave=False, classes=None, agnostic_nms=False, augment=False, update=False, project='runs/detect', name='src_hard', exist_ok=False, no_trace=False)\n",
      "YOLOR 🚀 1c71294 torch 1.7.1+cu110 CUDA:0 (NVIDIA GeForce RTX 3090, 24265.3125MB)\n",
      "\n",
      "Fusing layers... \n",
      "RepConv.fuse_repvgg_block\n",
      "RepConv.fuse_repvgg_block\n",
      "RepConv.fuse_repvgg_block\n",
      "IDetect.fuse\n",
      "Model Summary: 314 layers, 36622016 parameters, 6194944 gradients\n",
      " Convert model to Traced-model... \n",
      " traced_script_module saved! \n",
      " model is traced! \n",
      "\n",
      " The image with the result is saved in: runs/detect/src_hard30/221025_16:18:45.94_Session1.jpg\n",
      " The image with the result is saved in: runs/detect/src_hard30/221025_16:18:46.95_Session2.jpg\n",
      " The image with the result is saved in: runs/detect/src_hard30/221025_16:18:47.93_Session3.jpg\n",
      " The image with the result is saved in: runs/detect/src_hard30/221025_16:18:48.98_Session4.jpg\n",
      " The image with the result is saved in: runs/detect/src_hard30/221025_16:18:49.93_Session5.jpg\n",
      " The image with the result is saved in: runs/detect/src_hard30/221025_16:18:50.96_Session6.jpg\n",
      " The image with the result is saved in: runs/detect/src_hard30/221025_16:18:51.94_Session7.jpg\n",
      " The image with the result is saved in: runs/detect/src_hard30/221025_16:18:52.97_Session8.jpg\n",
      " The image with the result is saved in: runs/detect/src_hard30/221025_23:30:49.02_Session10.jpg\n",
      " The image with the result is saved in: runs/detect/src_hard30/221025_23:30:49.54_Session11.jpg\n",
      " The image with the result is saved in: runs/detect/src_hard30/221025_23:30:50.05_Session12.jpg\n",
      " The image with the result is saved in: runs/detect/src_hard30/221025_23:30:50.52_Session13.jpg\n",
      " The image with the result is saved in: runs/detect/src_hard30/221025_23:30:51.05_Session14.jpg\n",
      " The image with the result is saved in: runs/detect/src_hard30/221025_23:30:51.53_Session15.jpg\n",
      " The image with the result is saved in: runs/detect/src_hard30/221025_23:30:52.05_Session16.jpg\n",
      " The image with the result is saved in: runs/detect/src_hard30/221026_15:10:44.02_Session7.jpg\n",
      " The image with the result is saved in: runs/detect/src_hard30/221026_15:10:44.41_Session8.jpg\n",
      " The image with the result is saved in: runs/detect/src_hard30/221026_15:10:45.49_Session10.jpg\n",
      " The image with the result is saved in: runs/detect/src_hard30/221026_15:10:45.93_Session11.jpg\n",
      " The image with the result is saved in: runs/detect/src_hard30/221026_15:10:46.96_Session13.jpg\n",
      " The image with the result is saved in: runs/detect/src_hard30/221026_15:10:47.44_Session14.jpg\n",
      " The image with the result is saved in: runs/detect/src_hard30/221026_15:10:57.44_Session34.jpg\n",
      " The image with the result is saved in: runs/detect/src_hard30/221026_15:10:57.95_Session35.jpg\n",
      " The image with the result is saved in: runs/detect/src_hard30/221026_15:10:58.91_Session37.jpg\n",
      " The image with the result is saved in: runs/detect/src_hard30/221026_15:10:59.43_Session38.jpg\n",
      " The image with the result is saved in: runs/detect/src_hard30/221026_15:11:00.41_Session40.jpg\n",
      " The image with the result is saved in: runs/detect/src_hard30/221026_15:11:00.94_Session41.jpg\n",
      " The image with the result is saved in: runs/detect/src_hard30/221026_15:11:10.95_Session61.jpg\n",
      " The image with the result is saved in: runs/detect/src_hard30/221026_15:11:11.42_Session62.jpg\n",
      " The image with the result is saved in: runs/detect/src_hard30/221026_15:11:12.46_Session64.jpg\n",
      " The image with the result is saved in: runs/detect/src_hard30/221026_15:11:12.90_Session65.jpg\n",
      " The image with the result is saved in: runs/detect/src_hard30/221026_15:11:13.96_Session67.jpg\n",
      " The image with the result is saved in: runs/detect/src_hard30/221026_15:11:14.45_Session68.jpg\n",
      "Done. (0.651s)\n"
     ]
    }
   ],
   "source": [
    "# QC for Extended\n",
    "!python detect.py --weights wesee7_6.pt --source ../../dataset/source_hard --name src_hard --img-size 640 --conf-thres 0.1 --iou-thres 0.65\n"
   ]
  },
  {
   "cell_type": "code",
   "execution_count": null,
   "metadata": {},
   "outputs": [],
   "source": []
  }
 ],
 "metadata": {
  "kernelspec": {
   "display_name": "Python 3",
   "language": "python",
   "name": "python3"
  },
  "language_info": {
   "codemirror_mode": {
    "name": "ipython",
    "version": 3
   },
   "file_extension": ".py",
   "mimetype": "text/x-python",
   "name": "python",
   "nbconvert_exporter": "python",
   "pygments_lexer": "ipython3",
   "version": "3.7.4"
  }
 },
 "nbformat": 4,
 "nbformat_minor": 2
}
