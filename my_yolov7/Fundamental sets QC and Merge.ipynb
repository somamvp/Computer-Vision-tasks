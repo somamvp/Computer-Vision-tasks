{
 "cells": [
  {
   "cell_type": "code",
   "execution_count": 1,
   "id": "00f4c673",
   "metadata": {
    "collapsed": true
   },
   "outputs": [
    {
     "name": "stdout",
     "output_type": "stream",
     "text": [
      "Namespace(agnostic_nms=False, augment=False, classes=None, conf_thres=0.25, device='', exist_ok=False, img_size=640, iou_thres=0.65, name='wesee_QC', no_trace=False, nosave=False, project='runs/detect', save_conf=False, save_txt=False, source='../../dataset/source', update=False, view_img=False, weights=['wesee_ind4.pt'])\n",
      "YOLOR 🚀 6e9ef8d torch 1.7.1+cu110 CUDA:0 (NVIDIA GeForce RTX 3090, 24265.1875MB)\n",
      "\n",
      "Fusing layers... \n",
      "RepConv.fuse_repvgg_block\n",
      "RepConv.fuse_repvgg_block\n",
      "RepConv.fuse_repvgg_block\n",
      "IDetect.fuse\n",
      "Model Summary: 314 layers, 36622016 parameters, 6194944 gradients, 103.6 GFLOPS\n",
      " Convert model to Traced-model... \n",
      " traced_script_module saved! \n",
      " model is traced! \n",
      "\n",
      " The image with the result is saved in: runs/detect/wesee_QC4/264108736.jpg\n",
      " The image with the result is saved in: runs/detect/wesee_QC4/394854395.jpg\n",
      " The image with the result is saved in: runs/detect/wesee_QC4/432259479.jpg\n",
      " The image with the result is saved in: runs/detect/wesee_QC4/496995352.jpg\n",
      " The image with the result is saved in: runs/detect/wesee_QC4/5841516.jpg\n",
      " The image with the result is saved in: runs/detect/wesee_QC4/829365.jpg\n",
      " The image with the result is saved in: runs/detect/wesee_QC4/KakaoTalk_20220916_113653417_01.jpg\n",
      " The image with the result is saved in: runs/detect/wesee_QC4/KakaoTalk_20220916_113653417_09.jpg\n",
      " The image with the result is saved in: runs/detect/wesee_QC4/KakaoTalk_20220916_113653417_12.jpg\n",
      " The image with the result is saved in: runs/detect/wesee_QC4/KakaoTalk_20220916_113724857_03.jpg\n",
      " The image with the result is saved in: runs/detect/wesee_QC4/KakaoTalk_20220916_113724857_07.jpg\n",
      " The image with the result is saved in: runs/detect/wesee_QC4/KakaoTalk_20220916_113724857_13.jpg\n",
      " The image with the result is saved in: runs/detect/wesee_QC4/KakaoTalk_20220916_113727449.jpg\n",
      " The image with the result is saved in: runs/detect/wesee_QC4/MP_KSC_000304.jpg\n",
      " The image with the result is saved in: runs/detect/wesee_QC4/MP_KSC_000327.jpg\n",
      " The image with the result is saved in: runs/detect/wesee_QC4/MP_KSC_000332.jpg\n",
      " The image with the result is saved in: runs/detect/wesee_QC4/MP_KSC_000399.jpg\n",
      " The image with the result is saved in: runs/detect/wesee_QC4/MP_KSC_000475.jpg\n",
      " The image with the result is saved in: runs/detect/wesee_QC4/MP_KSC_005400.jpg\n",
      " The image with the result is saved in: runs/detect/wesee_QC4/MP_KSC_005528.jpg\n",
      " The image with the result is saved in: runs/detect/wesee_QC4/MP_KSC_007582.jpg\n",
      " The image with the result is saved in: runs/detect/wesee_QC4/MP_KSC_007761.jpg\n",
      " The image with the result is saved in: runs/detect/wesee_QC4/MP_KSC_007855.jpg\n",
      " The image with the result is saved in: runs/detect/wesee_QC4/MP_KSC_007873.jpg\n",
      " The image with the result is saved in: runs/detect/wesee_QC4/MP_KSC_007950.jpg\n",
      " The image with the result is saved in: runs/detect/wesee_QC4/MP_KSC_008003.jpg\n",
      " The image with the result is saved in: runs/detect/wesee_QC4/MP_KSC_008112.jpg\n",
      " The image with the result is saved in: runs/detect/wesee_QC4/MP_KSC_008124.jpg\n",
      " The image with the result is saved in: runs/detect/wesee_QC4/MP_KSC_008150.jpg\n",
      " The image with the result is saved in: runs/detect/wesee_QC4/MP_SEL_MIN_000014.jpg\n",
      " The image with the result is saved in: runs/detect/wesee_QC4/MP_SEL_MIN_000020.jpg\n",
      " The image with the result is saved in: runs/detect/wesee_QC4/MP_SEL_MIN_000026.jpg\n",
      " The image with the result is saved in: runs/detect/wesee_QC4/MP_SEL_MIN_000048.jpg\n",
      " The image with the result is saved in: runs/detect/wesee_QC4/MP_SEL_MIN_000232.jpg\n",
      " The image with the result is saved in: runs/detect/wesee_QC4/MP_SEL_MIN_000276.jpg\n",
      " The image with the result is saved in: runs/detect/wesee_QC4/MP_SEL_MIN_000527.jpg\n",
      " The image with the result is saved in: runs/detect/wesee_QC4/MP_SEL_MIN_000561.jpg\n",
      " The image with the result is saved in: runs/detect/wesee_QC4/MP_SEL_MIN_000583.jpg\n",
      " The image with the result is saved in: runs/detect/wesee_QC4/MP_SEL_MIN_000626.jpg\n",
      " The image with the result is saved in: runs/detect/wesee_QC4/MP_SEL_MIN_000645.jpg\n",
      " The image with the result is saved in: runs/detect/wesee_QC4/MP_SEL_MIN_001780.jpg\n",
      " The image with the result is saved in: runs/detect/wesee_QC4/MP_SEL_MIN_001815.jpg\n",
      " The image with the result is saved in: runs/detect/wesee_QC4/MP_SEL_MIN_001833.jpg\n",
      " The image with the result is saved in: runs/detect/wesee_QC4/MP_SEL_MIN_002805.jpg\n",
      " The image with the result is saved in: runs/detect/wesee_QC4/MP_SEL_MIN_002847.jpg\n",
      " The image with the result is saved in: runs/detect/wesee_QC4/MP_SEL_MIN_002849.jpg\n",
      " The image with the result is saved in: runs/detect/wesee_QC4/MP_SEL_MIN_002853.jpg\n",
      " The image with the result is saved in: runs/detect/wesee_QC4/MP_SEL_MIN_003440.jpg\n",
      " The image with the result is saved in: runs/detect/wesee_QC4/MP_SEL_MIN_003814.jpg\n",
      " The image with the result is saved in: runs/detect/wesee_QC4/MP_SEL_MIN_003838.jpg\n",
      " The image with the result is saved in: runs/detect/wesee_QC4/MP_SEL_MIN_003859.jpg\n",
      " The image with the result is saved in: runs/detect/wesee_QC4/MP_SEL_MIN_003859_rot.jpg\n",
      " The image with the result is saved in: runs/detect/wesee_QC4/MP_SEL_MIN_004789.jpg\n",
      " The image with the result is saved in: runs/detect/wesee_QC4/MP_SEL_MIN_004789_rot.jpg\n",
      " The image with the result is saved in: runs/detect/wesee_QC4/MP_SEL_MIN_004868.jpg\n",
      " The image with the result is saved in: runs/detect/wesee_QC4/MP_SEL_MIN_005019.jpg\n",
      " The image with the result is saved in: runs/detect/wesee_QC4/MP_SEL_MIN_005056.jpg\n",
      " The image with the result is saved in: runs/detect/wesee_QC4/MP_SEL_MIN_005142.jpg\n",
      " The image with the result is saved in: runs/detect/wesee_QC4/MP_SEL_MIN_012043.jpg\n",
      " The image with the result is saved in: runs/detect/wesee_QC4/MP_SEL_MIN_012221.jpg\n",
      " The image with the result is saved in: runs/detect/wesee_QC4/MP_SEL_MIN_012226.jpg\n",
      " The image with the result is saved in: runs/detect/wesee_QC4/MP_SEL_MIN_012740.jpg\n",
      " The image with the result is saved in: runs/detect/wesee_QC4/[Train Set]MP_SEL_117609.jpg\n",
      " The image with the result is saved in: runs/detect/wesee_QC4/[Train Set]MP_SEL_117613.jpg\n",
      " The image with the result is saved in: runs/detect/wesee_QC4/[Train Set]MP_SEL_117908.jpg\n",
      " The image with the result is saved in: runs/detect/wesee_QC4/[Train Set]MP_SEL_250955_B108150.jpg\n",
      " The image with the result is saved in: runs/detect/wesee_QC4/[Train Set]MP_SEL_251073_B108234.jpg\n",
      " The image with the result is saved in: runs/detect/wesee_QC4/[Train Set]MP_SEL_251207_B108341.jpg\n",
      " The image with the result is saved in: runs/detect/wesee_QC4/[Train Set]MP_SEL_251527_B108541.jpg\n",
      " The image with the result is saved in: runs/detect/wesee_QC4/폴리텍대학_Day20211124_19266.jpg\n",
      " The image with the result is saved in: runs/detect/wesee_QC4/폴리텍대학_Day20211124_20902.jpg\n",
      "Done. (2.956s)\n"
     ]
    }
   ],
   "source": [
    "# QC for wesee\n",
    "!python detect.py --weights wesee7_fin.pt --source ../../dataset/source --name wesee_QC --img-size 640 --conf-thres 0.25 --iou-thres 0.65\n"
   ]
  },
  {
   "cell_type": "code",
   "execution_count": 2,
   "id": "fa88dac0",
   "metadata": {},
   "outputs": [
    {
     "name": "stdout",
     "output_type": "stream",
     "text": [
      "Namespace(agnostic_nms=False, augment=False, classes=None, conf_thres=0.25, device='', exist_ok=False, img_size=640, iou_thres=0.65, name='braille_QC', no_trace=False, nosave=False, project='runs/detect', save_conf=False, save_txt=False, source='../../dataset/hard_negative', update=False, view_img=False, weights=['barrier7_fin.pt'])\n",
      "YOLOR 🚀 75bab7d torch 1.7.1+cu110 CUDA:0 (NVIDIA GeForce RTX 3090, 24265.1875MB)\n",
      "\n",
      "Fusing layers... \n",
      "RepConv.fuse_repvgg_block\n",
      "RepConv.fuse_repvgg_block\n",
      "RepConv.fuse_repvgg_block\n",
      "IDetect.fuse\n",
      "Model Summary: 314 layers, 36622016 parameters, 6194944 gradients, 103.6 GFLOPS\n",
      " Convert model to Traced-model... \n",
      " traced_script_module saved! \n",
      " model is traced! \n",
      "\n",
      " The image with the result is saved in: runs/detect/braille_QC2/DC0106_2020-11-19_132652_0P.jpg\n",
      " The image with the result is saved in: runs/detect/braille_QC2/MP_KSC_012740.jpg\n",
      " The image with the result is saved in: runs/detect/braille_QC2/MP_KSC_016478.jpg\n",
      " The image with the result is saved in: runs/detect/braille_QC2/MP_SEL_007588.jpg\n",
      " The image with the result is saved in: runs/detect/braille_QC2/MP_SEL_019020.jpg\n",
      " The image with the result is saved in: runs/detect/braille_QC2/MP_SEL_104954.jpg\n",
      " The image with the result is saved in: runs/detect/braille_QC2/MP_SEL_114558.jpg\n",
      " The image with the result is saved in: runs/detect/braille_QC2/MP_SEL_210062_B078098.jpg\n",
      " The image with the result is saved in: runs/detect/braille_QC2/MP_SEL_B013252.jpg\n",
      " The image with the result is saved in: runs/detect/braille_QC2/MP_SEL_B055095.jpg\n",
      " The image with the result is saved in: runs/detect/braille_QC2/MP_SEL_B062576.jpg\n",
      "Done. (0.291s)\n"
     ]
    }
   ],
   "source": [
    "# QC for braille\n",
    "!python detect.py --weights barrier7_fin.pt --source ../../dataset/hard_negative --name braille_QC --img-size 640 --conf-thres 0.25 --iou-thres 0.65\n"
   ]
  },
  {
   "cell_type": "code",
   "execution_count": null,
   "id": "c8fb1cdd",
   "metadata": {},
   "outputs": [],
   "source": [
    "# Basic set 통합 러닝\n",
    "# 필수 데이터셋 4종\n",
    "!python train.py --epoch 80 --data data/voyagerBasic.yaml --weights wesee7_fin.pt --name voyagerBasic_ind1_ --img 640 640 --cfg cfg/training/yolov7.yaml --hyp data/hyp.scratch.voyager.yaml --batch-size 16\n"
   ]
  }
 ],
 "metadata": {
  "kernelspec": {
   "display_name": "Python 3 (ipykernel)",
   "language": "python",
   "name": "python3"
  },
  "language_info": {
   "codemirror_mode": {
    "name": "ipython",
    "version": 3
   },
   "file_extension": ".py",
   "mimetype": "text/x-python",
   "name": "python",
   "nbconvert_exporter": "python",
   "pygments_lexer": "ipython3",
   "version": "3.8.8"
  }
 },
 "nbformat": 4,
 "nbformat_minor": 5
}
