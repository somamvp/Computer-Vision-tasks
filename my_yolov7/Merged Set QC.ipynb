{
 "cells": [
  {
   "cell_type": "code",
   "execution_count": 4,
   "metadata": {},
   "outputs": [
    {
     "name": "stdout",
     "output_type": "stream",
     "text": [
      "Namespace(agnostic_nms=False, augment=False, classes=None, conf_thres=0.25, device='', exist_ok=False, img_size=640, iou_thres=0.65, name='basic_QC', no_trace=False, nosave=False, project='runs/detect', save_conf=False, save_txt=False, source='../../dataset/hard_negative/barrier', update=False, view_img=False, weights=['basic7_ind2.pt'])\n",
      "YOLOR 🚀 8a5a81b torch 1.7.1+cu110 CUDA:0 (NVIDIA GeForce RTX 3090, 24265.3125MB)\n",
      "\n",
      "Fusing layers... \n",
      "RepConv.fuse_repvgg_block\n",
      "RepConv.fuse_repvgg_block\n",
      "RepConv.fuse_repvgg_block\n",
      "IDetect.fuse\n",
      "Model Summary: 314 layers, 36622016 parameters, 6194944 gradients\n",
      " Convert model to Traced-model... \n",
      " traced_script_module saved! \n",
      " model is traced! \n",
      "\n",
      " The image with the result is saved in: runs/detect/basic_QC4/DC0106_2020-11-19_132652_0P.jpg\n",
      " The image with the result is saved in: runs/detect/basic_QC4/MP_KSC_012740.jpg\n",
      " The image with the result is saved in: runs/detect/basic_QC4/MP_KSC_016478.jpg\n",
      " The image with the result is saved in: runs/detect/basic_QC4/MP_SEL_007588.jpg\n",
      " The image with the result is saved in: runs/detect/basic_QC4/MP_SEL_019020.jpg\n",
      " The image with the result is saved in: runs/detect/basic_QC4/MP_SEL_104954.jpg\n",
      " The image with the result is saved in: runs/detect/basic_QC4/MP_SEL_114558.jpg\n",
      " The image with the result is saved in: runs/detect/basic_QC4/MP_SEL_210062_B078098.jpg\n",
      " The image with the result is saved in: runs/detect/basic_QC4/MP_SEL_B013252.jpg\n",
      " The image with the result is saved in: runs/detect/basic_QC4/MP_SEL_B054867.jpg\n",
      " The image with the result is saved in: runs/detect/basic_QC4/MP_SEL_B055095.jpg\n",
      " The image with the result is saved in: runs/detect/basic_QC4/MP_SEL_B062576.jpg\n",
      " The image with the result is saved in: runs/detect/basic_QC4/분당중앙공원_Day20211015_04347.jpg\n",
      " The image with the result is saved in: runs/detect/basic_QC4/분당중앙공원_Day20211015_04676.jpg\n",
      " The image with the result is saved in: runs/detect/basic_QC4/성남예술_Night20211111_06452.jpg\n",
      " The image with the result is saved in: runs/detect/basic_QC4/탄천_Day20211021_00290.jpg\n",
      " The image with the result is saved in: runs/detect/basic_QC4/탄천_Day20211021_00338.jpg\n",
      " The image with the result is saved in: runs/detect/basic_QC4/탄천_Day20211022_00108.jpg\n",
      " The image with the result is saved in: runs/detect/basic_QC4/탄천_Day20211025_09805.jpg\n",
      "Done. (0.303s)\n"
     ]
    }
   ],
   "source": [
    "# QC for Basic\n",
    "!python detect.py --weights basic7_ind2.pt --source ../../dataset/hard_negative/barrier --name basic_QC --img-size 640 --conf-thres 0.25 --iou-thres 0.65\n"
   ]
  },
  {
   "cell_type": "code",
   "execution_count": null,
   "metadata": {},
   "outputs": [],
   "source": [
    "# QC for Extra\n",
    "!python detect.py --weights extra7_fin.pt --source ../../dataset/source --name extra_QC --img-size 640 --conf-thres 0.25 --iou-thres 0.65\n"
   ]
  },
  {
   "cell_type": "code",
   "execution_count": null,
   "metadata": {},
   "outputs": [],
   "source": [
    "# QC for Extended\n",
    "!python detect.py --weights extended7_fin.pt --source ../../dataset/source --name extended_QC --img-size 640 --conf-thres 0.25 --iou-thres 0.65\n"
   ]
  },
  {
   "cell_type": "code",
   "execution_count": null,
   "metadata": {},
   "outputs": [],
   "source": [
    "# 최종 러닝\n",
    "!python train.py --epoch 30 --data data/voyagerExtended.yaml --weights wesee7_fin.pt --name voyagerExtended_ind1_ --img 640 640 --cfg cfg/training/yolov7.yaml --hyp data/hyp.scratch.voyager.yaml --batch-size 24\n"
   ]
  }
 ],
 "metadata": {
  "kernelspec": {
   "display_name": "Python 3",
   "language": "python",
   "name": "python3"
  },
  "language_info": {
   "codemirror_mode": {
    "name": "ipython",
    "version": 3
   },
   "file_extension": ".py",
   "mimetype": "text/x-python",
   "name": "python",
   "nbconvert_exporter": "python",
   "pygments_lexer": "ipython3",
   "version": "3.7.4"
  }
 },
 "nbformat": 4,
 "nbformat_minor": 5
}
