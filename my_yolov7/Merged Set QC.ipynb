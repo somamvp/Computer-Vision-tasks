{
 "cells": [
  {
   "cell_type": "code",
   "execution_count": null,
   "metadata": {},
   "outputs": [],
   "source": [
    "# QC for Basic\n",
    "!python detect.py --weights basic7_ind1.pt --source ../../dataset/source --name basic_QC --img-size 640 --conf-thres 0.25 --iou-thres 0.65\n"
   ]
  },
  {
   "cell_type": "code",
   "execution_count": null,
   "metadata": {},
   "outputs": [],
   "source": [
    "# QC for Extra\n",
    "!python detect.py --weights extra7_fin.pt --source ../../dataset/source --name extra_QC --img-size 640 --conf-thres 0.25 --iou-thres 0.65\n"
   ]
  },
  {
   "cell_type": "code",
   "execution_count": null,
   "id": "9d7e414f",
   "metadata": {},
   "outputs": [],
   "source": [
    "# QC for Extended\n",
    "!python detect.py --weights extended7_fin.pt --source ../../dataset/source --name extended_QC --img-size 640 --conf-thres 0.25 --iou-thres 0.65\n"
   ]
  }
 ],
 "metadata": {
  "kernelspec": {
   "display_name": "Python 3",
   "language": "python",
   "name": "python3"
  },
  "language_info": {
   "codemirror_mode": {
    "name": "ipython",
    "version": 3
   },
   "file_extension": ".py",
   "mimetype": "text/x-python",
   "name": "python",
   "nbconvert_exporter": "python",
   "pygments_lexer": "ipython3",
   "version": "3.7.4"
  }
 },
 "nbformat": 4,
 "nbformat_minor": 5
}
